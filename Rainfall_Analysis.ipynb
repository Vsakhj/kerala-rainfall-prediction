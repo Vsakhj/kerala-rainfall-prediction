{
 "cells": [
  {
   "cell_type": "code",
   "execution_count": 3,
   "id": "a88dc4af",
   "metadata": {},
   "outputs": [
    {
     "name": "stdout",
     "output_type": "stream",
     "text": [
      "--- Loading original dataset... ---\n",
      "                 SUBDIVISION  YEAR   JAN    FEB   MAR    APR    MAY    JUN  \\\n",
      "0  ANDAMAN & NICOBAR ISLANDS  1901  49.2   87.1  29.2    2.3  528.8  517.5   \n",
      "1  ANDAMAN & NICOBAR ISLANDS  1902   0.0  159.8  12.2    0.0  446.1  537.1   \n",
      "2  ANDAMAN & NICOBAR ISLANDS  1903  12.7  144.0   0.0    1.0  235.1  479.9   \n",
      "3  ANDAMAN & NICOBAR ISLANDS  1904   9.4   14.7   0.0  202.4  304.5  495.1   \n",
      "4  ANDAMAN & NICOBAR ISLANDS  1905   1.3    0.0   3.3   26.9  279.5  628.7   \n",
      "\n",
      "     JUL    AUG    SEP    OCT    NOV    DEC  ANNUAL  Jan-Feb  Mar-May  \\\n",
      "0  365.1  481.1  332.6  388.5  558.2   33.6  3373.2    136.3    560.3   \n",
      "1  228.9  753.7  666.2  197.2  359.0  160.5  3520.7    159.8    458.3   \n",
      "2  728.4  326.7  339.0  181.2  284.4  225.0  2957.4    156.7    236.1   \n",
      "3  502.0  160.1  820.4  222.2  308.7   40.1  3079.6     24.1    506.9   \n",
      "4  368.7  330.5  297.0  260.7   25.4  344.7  2566.7      1.3    309.7   \n",
      "\n",
      "   Jun-Sep  Oct-Dec  \n",
      "0   1696.3    980.3  \n",
      "1   2185.9    716.7  \n",
      "2   1874.0    690.6  \n",
      "3   1977.6    571.0  \n",
      "4   1624.9    630.8  \n"
     ]
    }
   ],
   "source": [
    "import pandas as pd\n",
    "print(\"--- Loading original dataset... ---\")\n",
    "df = pd.read_csv('rainfall in india 1901-2015.csv')\n",
    "print(df.head())"
   ]
  },
  {
   "cell_type": "code",
   "execution_count": 4,
   "id": "aeff9f58",
   "metadata": {},
   "outputs": [
    {
     "name": "stdout",
     "output_type": "stream",
     "text": [
      "--- Filtering for Kerala... ---\n",
      "     SUBDIVISION  YEAR   JAN   FEB   MAR    APR    MAY     JUN     JUL    AUG  \\\n",
      "3887      KERALA  1901  28.7  44.7  51.6  160.0  174.7   824.6   743.0  357.5   \n",
      "3888      KERALA  1902   6.7   2.6  57.3   83.9  134.5   390.9  1205.0  315.8   \n",
      "3889      KERALA  1903   3.2  18.6   3.1   83.6  249.7   558.6  1022.5  420.2   \n",
      "3890      KERALA  1904  23.7   3.0  32.2   71.5  235.7  1098.2   725.5  351.8   \n",
      "3891      KERALA  1905   1.2  22.3   9.4  105.9  263.3   850.2   520.5  293.6   \n",
      "\n",
      "        SEP    OCT    NOV    DEC  ANNUAL  Jan-Feb  Mar-May  Jun-Sep  Oct-Dec  \n",
      "3887  197.7  266.9  350.8   48.4  3248.6     73.4    386.2   2122.8    666.1  \n",
      "3888  491.6  358.4  158.3  121.5  3326.6      9.3    275.7   2403.4    638.2  \n",
      "3889  341.8  354.1  157.0   59.0  3271.2     21.7    336.3   2343.0    570.1  \n",
      "3890  222.7  328.1   33.9    3.3  3129.7     26.7    339.4   2398.2    365.3  \n",
      "3891  217.2  383.5   74.4    0.2  2741.6     23.4    378.5   1881.5    458.1  \n"
     ]
    }
   ],
   "source": [
    "print(\"--- Filtering for Kerala... ---\")\n",
    "kerala_df_raw = df[df['SUBDIVISION'] == 'KERALA'].copy()\n",
    "print(kerala_df_raw.head())"
   ]
  },
  {
   "cell_type": "code",
   "execution_count": 5,
   "id": "26848e79",
   "metadata": {},
   "outputs": [
    {
     "name": "stdout",
     "output_type": "stream",
     "text": [
      "--- Reshaping the data... ---\n",
      "\n",
      "--- These are the ONLY unique values that should be in the 'Month' column: ---\n",
      "['JAN' 'FEB' 'MAR' 'APR' 'MAY' 'JUN' 'JUL' 'AUG' 'SEP' 'OCT' 'NOV' 'DEC']\n"
     ]
    }
   ],
   "source": [
    "print(\"--- Reshaping the data... ---\")\n",
    "months_to_keep = ['JAN', 'FEB', 'MAR', 'APR', 'MAY', 'JUN', 'JUL', 'AUG', 'SEP', 'OCT', 'NOV', 'DEC']\n",
    "\n",
    "kerala_df = kerala_df_raw.melt(\n",
    "    id_vars='YEAR',\n",
    "    value_vars=months_to_keep,\n",
    "    var_name='Month',\n",
    "    value_name='Rainfall'\n",
    ")\n",
    "\n",
    "# --- Diagnostic Check ---\n",
    "print(\"\\n--- These are the ONLY unique values that should be in the 'Month' column: ---\")\n",
    "print(kerala_df['Month'].unique())"
   ]
  },
  {
   "cell_type": "code",
   "execution_count": 6,
   "id": "f450b746",
   "metadata": {},
   "outputs": [
    {
     "name": "stdout",
     "output_type": "stream",
     "text": [
      "--- Mapping months to numbers... ---\n",
      "\n",
      "--- Checking for missing values after mapping. Month_Num should have 0. ---\n",
      "YEAR         0\n",
      "Month        0\n",
      "Rainfall     0\n",
      "Month_Num    0\n",
      "dtype: int64\n"
     ]
    }
   ],
   "source": [
    "print(\"--- Mapping months to numbers... ---\")\n",
    "month_map = {\n",
    "    'JAN': 1, 'FEB': 2, 'MAR': 3, 'APR': 4, 'MAY': 5, 'JUN': 6,\n",
    "    'JUL': 7, 'AUG': 8, 'SEP': 9, 'OCT': 10, 'NOV': 11, 'DEC': 12\n",
    "}\n",
    "kerala_df['Month_Num'] = kerala_df['Month'].map(month_map)\n",
    "\n",
    "# --- Diagnostic Check ---\n",
    "print(\"\\n--- Checking for missing values after mapping. Month_Num should have 0. ---\")\n",
    "print(kerala_df.isnull().sum())"
   ]
  },
  {
   "cell_type": "code",
   "execution_count": 8,
   "id": "ed887ae8",
   "metadata": {},
   "outputs": [
    {
     "name": "stdout",
     "output_type": "stream",
     "text": [
      "--- Running final pre-conversion diagnostics ---\n",
      "\n",
      "--- Data types of the columns being used: ---\n",
      "<class 'pandas.core.frame.DataFrame'>\n",
      "RangeIndex: 1380 entries, 0 to 1379\n",
      "Data columns (total 2 columns):\n",
      " #   Column     Non-Null Count  Dtype\n",
      "---  ------     --------------  -----\n",
      " 0   YEAR       1380 non-null   int64\n",
      " 1   Month_Num  1380 non-null   int64\n",
      "dtypes: int64(2)\n",
      "memory usage: 21.7 KB\n",
      "None\n",
      "\n",
      "--- Checking again for any nulls (should be 0): ---\n",
      "YEAR         0\n",
      "Month_Num    0\n",
      "dtype: int64\n",
      "\n",
      "--- Attempting to create the Date column... ---\n",
      "\n",
      "--- ERROR! The error occurred again. ---\n",
      "Error message: to assemble mappings requires at least that [year, month, day] be specified: [month] is missing\n",
      "\n",
      "--- Here are the first 5 rows of the data that caused the error: ---\n",
      "   YEAR  Month_Num  Day\n",
      "0  1901          1    1\n",
      "1  1902          1    1\n",
      "2  1903          1    1\n",
      "3  1904          1    1\n",
      "4  1905          1    1\n"
     ]
    }
   ],
   "source": [
    "# --- Step 5: Final Check and Conversion ---\n",
    "\n",
    "print(\"--- Running final pre-conversion diagnostics ---\")\n",
    "\n",
    "# Let's be absolutely sure about our data types before we create the date\n",
    "# We will explicitly convert YEAR and Month_Num to integers.\n",
    "kerala_df['YEAR'] = kerala_df['YEAR'].astype(int)\n",
    "kerala_df['Month_Num'] = kerala_df['Month_Num'].astype(int)\n",
    "\n",
    "\n",
    "# --- Diagnostic Check ---\n",
    "print(\"\\n--- Data types of the columns being used: ---\")\n",
    "print(kerala_df[['YEAR', 'Month_Num']].info())\n",
    "\n",
    "\n",
    "print(\"\\n--- Checking again for any nulls (should be 0): ---\")\n",
    "print(kerala_df[['YEAR', 'Month_Num']].isnull().sum())\n",
    "\n",
    "\n",
    "# --- The Failing Line ---\n",
    "print(\"\\n--- Attempting to create the Date column... ---\")\n",
    "try:\n",
    "    # Create a temporary dataframe to pass to the function\n",
    "    date_components = kerala_df.assign(Day=1)[['YEAR', 'Month_Num', 'Day']]\n",
    "    \n",
    "    kerala_df['Date'] = pd.to_datetime(date_components)\n",
    "    kerala_df = kerala_df.sort_values(by='Date')\n",
    "\n",
    "    print(\"\\n--- SUCCESS! It worked! Here is the final data: ---\")\n",
    "    print(kerala_df.head())\n",
    "\n",
    "except Exception as e:\n",
    "    print(\"\\n--- ERROR! The error occurred again. ---\")\n",
    "    print(f\"Error message: {e}\")\n",
    "    print(\"\\n--- Here are the first 5 rows of the data that caused the error: ---\")\n",
    "    print(date_components.head())"
   ]
  },
  {
   "cell_type": "code",
   "execution_count": 9,
   "id": "15b9862f",
   "metadata": {},
   "outputs": [
    {
     "name": "stdout",
     "output_type": "stream",
     "text": [
      "--- Engineering features... ---\n",
      "Training set size: 1101 samples\n",
      "Testing set size: 276 samples\n",
      "--- Data is ready for the model! ---\n"
     ]
    }
   ],
   "source": [
    "from sklearn.model_selection import train_test_split\n",
    "\n",
    "print(\"--- Engineering features... ---\")\n",
    "\n",
    "# We will use the past 3 months of rainfall to predict the next month.\n",
    "for i in range(1, 4):\n",
    "    kerala_df[f'Rainfall_Lag_{i}'] = kerala_df['Rainfall'].shift(i)\n",
    "\n",
    "# Drop rows with NaN values (the first few rows with no lag data)\n",
    "kerala_df.dropna(inplace=True)\n",
    "\n",
    "# Define our features (X) and target (y)\n",
    "features = ['Rainfall_Lag_1', 'Rainfall_Lag_2', 'Rainfall_Lag_3']\n",
    "target = 'Rainfall'\n",
    "\n",
    "X = kerala_df[features]\n",
    "y = kerala_df[target]\n",
    "\n",
    "# Split data into training (80%) and testing (20%) sets\n",
    "X_train, X_test, y_train, y_test = train_test_split(X, y, test_size=0.2, random_state=42)\n",
    "\n",
    "print(f\"Training set size: {X_train.shape[0]} samples\")\n",
    "print(f\"Testing set size: {X_test.shape[0]} samples\")\n",
    "print(\"--- Data is ready for the model! ---\")"
   ]
  },
  {
   "cell_type": "code",
   "execution_count": 10,
   "id": "e994134b",
   "metadata": {},
   "outputs": [
    {
     "name": "stdout",
     "output_type": "stream",
     "text": [
      "--- Training the Random Forest model... ---\n",
      "--- Model training complete! ---\n"
     ]
    }
   ],
   "source": [
    "from sklearn.ensemble import RandomForestRegressor\n",
    "from sklearn.metrics import mean_absolute_error, r2_score\n",
    "\n",
    "print(\"--- Training the Random Forest model... ---\")\n",
    "\n",
    "# Initialize and train the model\n",
    "model = RandomForestRegressor(n_estimators=100, random_state=42, n_jobs=-1)\n",
    "model.fit(X_train, y_train)\n",
    "\n",
    "print(\"--- Model training complete! ---\")"
   ]
  },
  {
   "cell_type": "code",
   "execution_count": 11,
   "id": "803e75a1",
   "metadata": {},
   "outputs": [
    {
     "name": "stdout",
     "output_type": "stream",
     "text": [
      "--- Evaluating model performance... ---\n",
      "\n",
      "--- Model Evaluation Results ---\n",
      "Mean Absolute Error (MAE): 89.87 mm\n",
      "R-squared (R²) Score: 0.70\n",
      "\n",
      "*MAE tells us, on average, how far off our predictions are from the actual rainfall.\n",
      "*R² tells us how much of the variation in rainfall our model can explain (closer to 1.0 is better).\n"
     ]
    }
   ],
   "source": [
    "print(\"--- Evaluating model performance... ---\")\n",
    "\n",
    "# Make predictions on the test set\n",
    "y_pred = model.predict(X_test)\n",
    "\n",
    "# Calculate performance metrics\n",
    "mae = mean_absolute_error(y_test, y_pred)\n",
    "r2 = r2_score(y_test, y_pred)\n",
    "\n",
    "print(f\"\\n--- Model Evaluation Results ---\")\n",
    "print(f\"Mean Absolute Error (MAE): {mae:.2f} mm\")\n",
    "print(f\"R-squared (R²) Score: {r2:.2f}\")\n",
    "\n",
    "print(\"\\n*MAE tells us, on average, how far off our predictions are from the actual rainfall.\")\n",
    "print(\"*R² tells us how much of the variation in rainfall our model can explain (closer to 1.0 is better).\")"
   ]
  },
  {
   "cell_type": "code",
   "execution_count": 12,
   "id": "8d082dce",
   "metadata": {},
   "outputs": [
    {
     "data": {
      "image/png": "[encoded data removed]",
      "text/plain": [
       "<Figure size 800x800 with 1 Axes>"
      ]
     },
     "metadata": {},
     "output_type": "display_data"
    }
   ],
   "source": [
    "# --- Plot: Actual vs. Predicted Rainfall ---\n",
    "plt.figure(figsize=(8, 8))\n",
    "sns.scatterplot(x=y_test, y=y_pred, alpha=0.6)\n",
    "\n",
    "# Add a line for perfect predictions (y=x)\n",
    "plt.plot([y_test.min(), y_test.max()], [y_test.min(), y_test.max()], '--r', linewidth=2, label='Perfect Prediction')\n",
    "\n",
    "plt.title('Actual vs. Predicted Rainfall', fontsize=16)\n",
    "plt.xlabel('Actual Rainfall (mm)', fontsize=12)\n",
    "plt.ylabel('Predicted Rainfall (mm)', fontsize=12)\n",
    "plt.legend()\n",
    "plt.show()"
   ]
  },
  {
   "cell_type": "code",
   "execution_count": null,
   "id": "6f50696e",
   "metadata": {},
   "outputs": [],
   "source": []
  }
 ],
 "metadata": {
  "kernelspec": {
   "display_name": "venv",
   "language": "python",
   "name": "python3"
  },
  "language_info": {
   "codemirror_mode": {
    "name": "ipython",
    "version": 3
   },
   "file_extension": ".py",
   "mimetype": "text/x-python",
   "name": "python",
   "nbconvert_exporter": "python",
   "pygments_lexer": "ipython3",
   "version": "3.12.8"
  }
 },
 "nbformat": 4,
 "nbformat_minor": 5
}
